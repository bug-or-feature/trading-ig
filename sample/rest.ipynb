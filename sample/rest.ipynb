{
 "cells": [
  {
   "cell_type": "markdown",
   "id": "ec8c83b74991ebc7",
   "metadata": {
    "collapsed": false
   },
   "source": [
    "# Imports, objects, and starting a session\n",
    "\n",
    "Using v2 sessions by default"
   ]
  },
  {
   "cell_type": "code",
   "execution_count": null,
   "id": "6236766fd0340597",
   "metadata": {
    "collapsed": false
   },
   "outputs": [],
   "source": [
    "from trading_ig.rest import IGService\n",
    "from trading_ig.config import config\n",
    "\n",
    "service = IGService(\n",
    "    config.username,\n",
    "    config.password,\n",
    "    config.api_key,\n",
    "    config.acc_type,\n",
    "    acc_number=config.acc_number,\n",
    ")\n",
    "# creating a v2 session\n",
    "service.create_session()\n",
    "\n",
    "# creating a v3 session\n",
    "#service.create_session(version=\"3\")"
   ]
  },
  {
   "cell_type": "markdown",
   "id": "aa41443cec0fb2d2",
   "metadata": {
    "collapsed": false
   },
   "source": [
    "# Fetching account information"
   ]
  },
  {
   "cell_type": "code",
   "execution_count": null,
   "id": "19f74547fb3174e1",
   "metadata": {
    "collapsed": false
   },
   "outputs": [],
   "source": [
    "service.fetch_accounts()"
   ]
  },
  {
   "cell_type": "markdown",
   "source": [
    "# Fetching historic prices"
   ],
   "metadata": {
    "collapsed": false
   },
   "id": "f3e01ba486501770"
  },
  {
   "cell_type": "code",
   "execution_count": null,
   "outputs": [],
   "source": [
    "data = service.fetch_historical_prices_by_epic(\n",
    "    epic=\"IX.D.FTSE.DAILY.IP\",\n",
    "    resolution=\"D\",\n",
    "    start_date=\"2024-01-01\",\n",
    "    end_date=\"2024-01-22\",\n",
    "    format=service.flat_prices\n",
    ")\n",
    "\n",
    "data[\"prices\"]"
   ],
   "metadata": {
    "collapsed": false
   },
   "id": "3b72874aaba7a665"
  },
  {
   "cell_type": "markdown",
   "source": [
    "# Save prices to file"
   ],
   "metadata": {
    "collapsed": false
   },
   "id": "e34db8ecfc649f6e"
  },
  {
   "cell_type": "code",
   "execution_count": null,
   "outputs": [],
   "source": [
    "from pathlib import Path\n",
    "\n",
    "save_path = Path('~').expanduser() / \"prices.csv\"\n",
    "print(f\"saving historic prices to {save_path}\")\n",
    "\n",
    "data[\"prices\"].to_csv(save_path, date_format=\"%Y-%m-%dT%H:%M:%S%z\")\n"
   ],
   "metadata": {
    "collapsed": false
   },
   "id": "f9cd0c0854f0a17c"
  }
 ],
 "metadata": {
  "kernelspec": {
   "display_name": "Python 3 (ipykernel)",
   "language": "python",
   "name": "python3"
  },
  "language_info": {
   "codemirror_mode": {
    "name": "ipython",
    "version": 3
   },
   "file_extension": ".py",
   "mimetype": "text/x-python",
   "name": "python",
   "nbconvert_exporter": "python",
   "pygments_lexer": "ipython3",
   "version": "3.8.16"
  }
 },
 "nbformat": 4,
 "nbformat_minor": 5
}
